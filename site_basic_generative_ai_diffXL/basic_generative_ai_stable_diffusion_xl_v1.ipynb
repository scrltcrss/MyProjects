{
 "cells": [
  {
   "cell_type": "markdown",
   "metadata": {},
   "source": [
    "<!DOCTYPE html>\n",
    "<html lang=\"en\">\n",
    "<head>\n",
    "    <meta charset=\"UTF-8\">\n",
    "    <meta name=\"viewport\" content=\"width=device-width, initial-scale=1.0\">\n",
    "</head>\n",
    "<body>\n",
    "    <div class=\"container\">\n",
    "        <h1>Basic Generative AI by Daniil Bokhan</h1>\n",
    "        <h2>Based on stable-diffusion-xl-v1</h2>\n",
    "        <p>Welcome to the Basic Generative AI project, created by Daniil Bokhan. This project utilizes the powerful stable-diffusion-xl-v1 model to generate high-quality images from textual descriptions.</p>\n",
    "        <h3>About the Model</h3>\n",
    "        <p>The stable-diffusion-xl-v1 model was released on June 3, 2023. It is designed to produce detailed and realistic images from text prompts, leveraging advanced diffusion techniques to enhance the quality and coherence of the generated images.</p>\n",
    "        <p>This model represents a significant advancement in the field of generative AI, providing a versatile tool for artists, designers, and researchers to create stunning visuals with minimal input.</p>\n",
    "        <h3>Key Features</h3>\n",
    "        <ul>\n",
    "            <li>High-quality image generation from text prompts</li>\n",
    "            <li>Advanced noise reduction and refinement capabilities</li>\n",
    "            <li>Supports a wide range of styles and subjects</li>\n",
    "            <li>Efficient performance on modern hardware</li>\n",
    "        </ul>\n",
    "        <h3>How to Use</h3>\n",
    "        <p>To use this application, simply enter a descriptive prompt in the input field and click the \"Generate image\" button. The AI model will process your request and produce an image based on your description.</p>\n",
    "        <form method=\"POST\" action=\"/\">\n",
    "            <input type=\"text\" name=\"prompt\" placeholder=\"Enter your request\" required>\n",
    "            <button type=\"submit\">Generate image</button>\n",
    "        </form>\n",
    "        <h3>Project Overview</h3>\n",
    "        <p>In this project, I will demonstrate how to create a simple website that processes text prompts and generates images using the stable-diffusion-xl-v1 model. This website will be built with minimal changes to the model and without requiring extensive code.</p>\n",
    "        <p>The website will feature a straightforward user interface where users can input their prompts, submit them, and view the generated images. The backend will handle the processing of these prompts and the generation of images, showcasing the capabilities of the stable-diffusion-xl-v1 model in an accessible and user-friendly manner.</p>\n",
    "    </div>\n",
    "</body>\n",
    "</html>\n"
   ]
  },
  {
   "cell_type": "markdown",
   "metadata": {},
   "source": [
    "<!-- Image Divider -->\n",
    "<p align=\"center\">\n",
    "    <img src=\"https://aplicaciones-ia.org/wp-content/uploads/2023/12/stability-logo.png\"  width=\"100%\">\n",
    "</p>"
   ]
  },
  {
   "cell_type": "markdown",
   "metadata": {},
   "source": [
    "<!DOCTYPE html>\n",
    "<html lang=\"en\">\n",
    "<head>\n",
    "    <meta charset=\"UTF-8\">\n",
    "    <meta name=\"viewport\" content=\"width=device-width, initial-scale=1.0\">\n",
    "</head>\n",
    "<body>\n",
    "     <h1>script & model </h1>\n",
    "</body>\n",
    "</html>"
   ]
  },
  {
   "cell_type": "code",
   "execution_count": null,
   "metadata": {
    "vscode": {
     "languageId": "plaintext"
    }
   },
   "outputs": [],
   "source": [
    "from flask import Flask, render_template, request, send_file, url_for\n",
    "from diffusers import DiffusionPipeline\n",
    "import torch\n",
    "from io import BytesIO\n",
    "import os\n",
    "\n",
    "app = Flask(__name__)\n",
    "\n",
    "def load_pipelines():\n",
    "    base = DiffusionPipeline.from_pretrained(\n",
    "        \"stabilityai/stable-diffusion-xl-base-1.0\",\n",
    "        torch_dtype=torch.float16,\n",
    "        use_safetensors=True,\n",
    "        variant=\"fp16\"\n",
    "    )\n",
    "    refiner = DiffusionPipeline.from_pretrained(\n",
    "        \"stabilityai/stable-diffusion-xl-refiner-1.0\",\n",
    "        text_encoder_2=base.text_encoder_2,\n",
    "        vae=base.vae,\n",
    "        torch_dtype=torch.float16,\n",
    "        use_safetensors=True,\n",
    "        variant=\"fp16\"\n",
    "    )\n",
    "    return base.to(device), refiner.to(device)\n",
    "\n",
    "device = \"cuda\" if torch.cuda.is_available() else \"cpu\"\n",
    "base, refiner = load_pipelines()\n",
    "\n",
    "def generate_image(prompt, base, refiner, n_steps=40, high_noise_frac=0.8):\n",
    "    with torch.no_grad():\n",
    "        image = base(prompt=prompt, num_inference_steps=n_steps, denoising_end=high_noise_frac, output_type=\"latent\").images\n",
    "        image = refiner(prompt=prompt, num_inference_steps=n_steps, denoising_start=high_noise_frac, image=image).images[0]\n",
    "    return image\n",
    "\n",
    "@app.route(\"/\", methods=[\"GET\", \"POST\"])\n",
    "def index():\n",
    "    image_url = None\n",
    "    if request.method == \"POST\":\n",
    "        prompt = request.form[\"prompt\"]\n",
    "        try:\n",
    "            image = generate_image(prompt, base, refiner)\n",
    "            img_io = BytesIO()\n",
    "            image.save(img_io, 'PNG')\n",
    "            img_io.seek(0)\n",
    "            image_path = os.path.join('static', 'generated_image.png')\n",
    "            with open(image_path, 'wb') as f:\n",
    "                f.write(img_io.getbuffer())\n",
    "            image_url = url_for('static', filename='generated_image.png')\n",
    "        except Exception as e:\n",
    "            return f\"Error: {e}\"\n",
    "    return render_template(\"index.html\", image_url=image_url)\n",
    "\n",
    "if __name__ == \"__main__\":\n",
    "    app.run(debug=True)"
   ]
  },
  {
   "cell_type": "markdown",
   "metadata": {},
   "source": [
    "<a href=\"https://ibb.co/n0Z90yd\"><img src=\"https://i.ibb.co/LPbmPyj/5.png\" alt=\"5\" border=\"0\"></a>"
   ]
  },
  {
   "cell_type": "markdown",
   "metadata": {},
   "source": [
    "<!DOCTYPE html>\n",
    "<html lang=\"en\">\n",
    "<head>\n",
    "    <meta charset=\"UTF-8\">\n",
    "    <meta name=\"viewport\" content=\"width=device-width, initial-scale=1.0\">\n",
    "</head>\n",
    "<body>\n",
    "     <h1>html</h1>\n",
    "</body>\n",
    "</html>"
   ]
  },
  {
   "cell_type": "code",
   "execution_count": null,
   "metadata": {
    "vscode": {
     "languageId": "plaintext"
    }
   },
   "outputs": [],
   "source": [
    "&lt;!DOCTYPE html&gt;\n",
    "&lt;html lang=&quot;en&quot;&gt;\n",
    "&lt;head&gt;\n",
    "    &lt;meta charset=&quot;UTF-8&quot;&gt;\n",
    "    &lt;meta name=&quot;viewport&quot; content=&quot;width=device-width, initial-scale=1.0&quot;&gt;\n",
    "&lt;/head&gt;\n",
    "&lt;body&gt;\n",
    "    &lt;!-- Loader element --&gt;\n",
    "    &lt;div class=&quot;loader&quot; id=&quot;global-loader&quot;&gt;&lt;/div&gt;\n",
    "    &lt;div class=&quot;container&quot;&gt;\n",
    "        &lt;!-- Title and description --&gt;\n",
    "        &lt;h1&gt;Basic Generative AI by Daniil Bokhan&lt;/h1&gt;\n",
    "        &lt;h2&gt;Based on stable-diffusion-xl&lt;/h2&gt;\n",
    "        &lt;!-- Form to submit prompt --&gt;\n",
    "        &lt;form method=&quot;POST&quot;&gt;\n",
    "            &lt;input type=&quot;text&quot; name=&quot;prompt&quot; placeholder=&quot;Enter your request&quot; required&gt;\n",
    "            &lt;button type=&quot;submit&quot; class=&quot;generate-btn&quot;&gt;Generate image&lt;/button&gt;\n",
    "        &lt;/form&gt;\n",
    "        &lt;!-- Image container --&gt;\n",
    "        &lt;div class=&quot;image-container&quot;&gt;\n",
    "            {% if image_url %}\n",
    "                &lt;!-- Display generated image if available --&gt;\n",
    "                &lt;h2&gt;Generated image:&lt;/h2&gt;\n",
    "                &lt;div class=&quot;image-frame&quot;&gt;\n",
    "                    &lt;img id=&quot;generated-image&quot; src=&quot;{{ image_url }}&quot; alt=&quot;generated image&quot; onload=&quot;hideLoader()&quot;&gt;\n",
    "                &lt;/div&gt;\n",
    "            {% endif %}\n",
    "        &lt;/div&gt;\n",
    "    &lt;/div&gt;\n",
    "\n",
    "    &lt;!-- Theme switcher --&gt;\n",
    "    &lt;div class=&quot;theme-switcher&quot;&gt;\n",
    "        &lt;label for=&quot;theme-switch&quot;&gt;Dark Mode&lt;/label&gt;\n",
    "        &lt;input type=&quot;checkbox&quot; id=&quot;theme-switch&quot;&gt;\n",
    "    &lt;/div&gt;\n",
    "\n",
    "    &lt;!-- Link to external JavaScript file --&gt;\n",
    "    &lt;script src=&quot;{{ url_for('static', filename='script.js') }}&quot;&gt;&lt;/script&gt;\n",
    "&lt;/body&gt;\n",
    "&lt;/html&gt;\n"
   ]
  },
  {
   "cell_type": "markdown",
   "metadata": {},
   "source": [
    "<a href=\"https://ibb.co/n0Z90yd\"><img src=\"https://i.ibb.co/LPbmPyj/5.png\" alt=\"5\" border=\"0\"></a>"
   ]
  },
  {
   "cell_type": "markdown",
   "metadata": {},
   "source": [
    "<!DOCTYPE html>\n",
    "<html lang=\"en\">\n",
    "<head>\n",
    "    <meta charset=\"UTF-8\">\n",
    "    <meta name=\"viewport\" content=\"width=device-width, initial-scale=1.0\">\n",
    "</head>\n",
    "<body>\n",
    "     <h1>css</h1>\n",
    "</body>\n",
    "</html>"
   ]
  },
  {
   "cell_type": "code",
   "execution_count": null,
   "metadata": {
    "vscode": {
     "languageId": "plaintext"
    }
   },
   "outputs": [],
   "source": [
    "/* Base styles for the body */\n",
    "body {\n",
    "    font-family: Arial, sans-serif;\n",
    "    margin: 0;\n",
    "    padding: 0;\n",
    "    background-color: #f4f4f4;\n",
    "    color: #333;\n",
    "    transition: background-color 0.3s, color 0.3s;\n",
    "    position: relative;\n",
    "}\n",
    "\n",
    "/* Styles for the main content container */\n",
    ".container {\n",
    "    max-width: 600px;\n",
    "    margin: 0 auto;\n",
    "    padding: 20px;\n",
    "    background-color: #fff;\n",
    "    border-radius: 10px;\n",
    "    box-shadow: 0 0 10px rgba(0, 0, 0, 0.1);\n",
    "    transition: background-color 0.3s;\n",
    "    position: relative;\n",
    "}\n",
    "\n",
    "/* Heading styles */\n",
    "h1, h2 {\n",
    "    text-align: center;\n",
    "    margin-bottom: 20px;\n",
    "}\n",
    "\n",
    "/* Form styles */\n",
    "form {\n",
    "    display: flex;\n",
    "    flex-direction: column;\n",
    "    align-items: center;\n",
    "}\n",
    "\n",
    "/* Input field styles */\n",
    "input[type=\"text\"] {\n",
    "    width: 100%;\n",
    "    padding: 10px;\n",
    "    margin-bottom: 10px;\n",
    "    border: 1px solid #ccc;\n",
    "    border-radius: 5px;\n",
    "}\n",
    "\n",
    "/* Button styles */\n",
    "button {\n",
    "    padding: 10px 20px;\n",
    "    background-color: #007bff;\n",
    "    color: #fff;\n",
    "    border: none;\n",
    "    border-radius: 5px;\n",
    "    cursor: pointer;\n",
    "}\n",
    "\n",
    "button:hover {\n",
    "    background-color: #0056b3;\n",
    "}\n",
    "\n",
    "/* Styles for the image container */\n",
    ".image-container {\n",
    "    margin-top: 20px;\n",
    "    text-align: center;\n",
    "}\n",
    "\n",
    "/* Styles for the image frame */\n",
    ".image-frame {\n",
    "    position: relative;\n",
    "    margin-top: 20px;\n",
    "    text-align: center;\n",
    "    border: 2px solid #ccc;\n",
    "    border-radius: 5px;\n",
    "    overflow: hidden;\n",
    "    display: inline-block;\n",
    "}\n",
    "\n",
    "/* Styles for the image */\n",
    ".image-frame img {\n",
    "    max-width: 100%;\n",
    "    display: none;\n",
    "}\n",
    "\n",
    "/* Loader styles */\n",
    ".loader {\n",
    "    position: fixed;\n",
    "    top: 50%;\n",
    "    left: 50%;\n",
    "    transform: translate(-50%, -50%);\n",
    "    width: 50px;\n",
    "    height: 50px;\n",
    "    border: 5px solid #ccc;\n",
    "    border-top: 5px solid #007bff;\n",
    "    border-radius: 50%;\n",
    "    animation: spin 1s linear infinite;\n",
    "    z-index: 1000;\n",
    "    display: none;\n",
    "}\n",
    "\n",
    "@keyframes spin {\n",
    "    0% { transform: rotate(0deg); }\n",
    "    100% { transform: rotate(360deg); }\n",
    "}\n",
    "\n",
    "/* Theme switcher styles */\n",
    ".theme-switcher {\n",
    "    position: fixed;\n",
    "    bottom: 20px;\n",
    "    right: 20px;\n",
    "    z-index: 1000;\n",
    "}\n",
    "\n",
    "/* Dark mode styles */\n",
    "body.dark-theme {\n",
    "    background-color: #333;\n",
    "    color: #fff;\n",
    "}\n",
    "\n",
    "body.dark-theme .container {\n",
    "    background-color: #444;\n",
    "    box-shadow: 0 0 10px rgba(255, 255, 255, 0.1);\n",
    "}\n",
    "\n",
    "body.dark-theme input[type=\"text\"], body.dark-theme button {\n",
    "    background-color: #555;\n",
    "}\n",
    "\n",
    "body.dark-theme .image-container {\n",
    "    background-color: #666;\n",
    "}\n",
    "\n",
    "body.dark-theme .theme-switcher label {\n",
    "    color: #fff;\n",
    "}\n"
   ]
  },
  {
   "cell_type": "markdown",
   "metadata": {},
   "source": [
    "<a href=\"https://ibb.co/n0Z90yd\"><img src=\"https://i.ibb.co/LPbmPyj/5.png\" alt=\"5\" border=\"0\"></a>"
   ]
  },
  {
   "cell_type": "markdown",
   "metadata": {},
   "source": [
    "<!DOCTYPE html>\n",
    "<html lang=\"en\">\n",
    "<head>\n",
    "    <meta charset=\"UTF-8\">\n",
    "    <meta name=\"viewport\" content=\"width=device-width, initial-scale=1.0\">\n",
    "</head>\n",
    "<body>\n",
    "     <h1>java script</h1>\n",
    "</body>\n",
    "</html>"
   ]
  },
  {
   "cell_type": "code",
   "execution_count": null,
   "metadata": {
    "vscode": {
     "languageId": "plaintext"
    }
   },
   "outputs": [],
   "source": [
    "// Theme switcher functionality\n",
    "const themeSwitch = document.getElementById('theme-switch');\n",
    "themeSwitch.addEventListener('change', () => {\n",
    "    // Toggle dark theme class on body\n",
    "    document.body.classList.toggle('dark-theme');\n",
    "    // Save theme preference to localStorage\n",
    "    localStorage.setItem('darkThemeEnabled', themeSwitch.checked);\n",
    "});\n",
    "\n",
    "// Event listener for generate button\n",
    "document.querySelector('.generate-btn').addEventListener('click', function() {\n",
    "    // Display loader when generating image\n",
    "    const loader = document.getElementById('global-loader');\n",
    "    loader.style.display = 'block';\n",
    "    // Hide previously generated image if any\n",
    "    const image = document.getElementById('generated-image');\n",
    "    if (image) {\n",
    "        image.style.display = 'none';\n",
    "    }\n",
    "});\n",
    "\n",
    "// Event listener for page load\n",
    "window.addEventListener('load', () => {\n",
    "    // Check for saved dark theme preference in localStorage\n",
    "    const darkThemeEnabled = localStorage.getItem('darkThemeEnabled');\n",
    "    // Apply dark theme if preference is true\n",
    "    if (darkThemeEnabled && darkThemeEnabled === 'true') {\n",
    "        document.body.classList.add('dark-theme');\n",
    "        themeSwitch.checked = true;\n",
    "    }\n",
    "});\n",
    "\n",
    "// Function to hide loader and display generated image\n",
    "function hideLoader() {\n",
    "    const loader = document.getElementById('global-loader');\n",
    "    loader.style.display = 'none';\n",
    "    const image = document.getElementById('generated-image');\n",
    "    if (image) {\n",
    "        image.style.display = 'block';\n",
    "    }\n",
    "}\n"
   ]
  },
  {
   "cell_type": "markdown",
   "metadata": {},
   "source": [
    "<a href=\"https://ibb.co/n0Z90yd\"><img src=\"https://i.ibb.co/LPbmPyj/5.png\" alt=\"5\" border=\"0\"></a>"
   ]
  },
  {
   "cell_type": "markdown",
   "metadata": {},
   "source": [
    "<!DOCTYPE html>\n",
    "<html lang=\"en\">\n",
    "<head>\n",
    "    <meta charset=\"UTF-8\">\n",
    "    <meta name=\"viewport\" content=\"width=device-width, initial-scale=1.0\">\n",
    "</head>\n",
    "<body>\n",
    "     <h1>run the code and this is what the start screen looks like</h1>\n",
    "</body>\n",
    "</html>"
   ]
  },
  {
   "cell_type": "markdown",
   "metadata": {},
   "source": [
    "<a href=\"https://ibb.co/wcq9gsk\"><img src=\"https://i.ibb.co/QDV2Qdg/first.png\" alt=\"first\" border=\"0\"></a>"
   ]
  },
  {
   "cell_type": "markdown",
   "metadata": {},
   "source": [
    "<a href=\"https://ibb.co/n0Z90yd\"><img src=\"https://i.ibb.co/LPbmPyj/5.png\" alt=\"5\" border=\"0\"></a>"
   ]
  },
  {
   "cell_type": "markdown",
   "metadata": {},
   "source": [
    "<!DOCTYPE html>\n",
    "<html lang=\"en\">\n",
    "<head>\n",
    "    <meta charset=\"UTF-8\">\n",
    "    <meta name=\"viewport\" content=\"width=device-width, initial-scale=1.0\">\n",
    "</head>\n",
    "<body>\n",
    "     <h1>after writing the prompt</h1>\n",
    "</body>\n",
    "</html>"
   ]
  },
  {
   "cell_type": "markdown",
   "metadata": {},
   "source": [
    "<a href=\"https://ibb.co/Ht8WDPG\"><img src=\"https://i.ibb.co/tqr7M2Y/second.png\" alt=\"second\" border=\"0\"></a>"
   ]
  },
  {
   "cell_type": "markdown",
   "metadata": {},
   "source": [
    "<a href=\"https://ibb.co/n0Z90yd\"><img src=\"https://i.ibb.co/LPbmPyj/5.png\" alt=\"5\" border=\"0\"></a>"
   ]
  },
  {
   "cell_type": "markdown",
   "metadata": {},
   "source": [
    "<!DOCTYPE html>\n",
    "<html lang=\"en\">\n",
    "<head>\n",
    "    <meta charset=\"UTF-8\">\n",
    "    <meta name=\"viewport\" content=\"width=device-width, initial-scale=1.0\">\n",
    "</head>\n",
    "<body>\n",
    "     <h1>And...</h1>\n",
    "</body>\n",
    "</html>"
   ]
  },
  {
   "cell_type": "markdown",
   "metadata": {},
   "source": [
    "<a href=\"https://ibb.co/RYypDy3\"><img src=\"https://i.ibb.co/q75Mr5N/third.png\" alt=\"third\" border=\"0\"></a>"
   ]
  },
  {
   "cell_type": "markdown",
   "metadata": {},
   "source": [
    "<a href=\"https://ibb.co/n0Z90yd\"><img src=\"https://i.ibb.co/LPbmPyj/5.png\" alt=\"5\" border=\"0\"></a>"
   ]
  },
  {
   "cell_type": "markdown",
   "metadata": {},
   "source": [
    "<!DOCTYPE html>\n",
    "<html lang=\"en\">\n",
    "<head>\n",
    "    <meta charset=\"UTF-8\">\n",
    "    <meta name=\"viewport\" content=\"width=device-width, initial-scale=1.0\">\n",
    "    <h1>Conclusion</h1>\n",
    "</head>\n",
    "<body>\n",
    "    <div class=\"container\">\n",
    "        <p>Approximate loading time on a 4060ti was about 7 minutes for 40 steps. The result is not perfect, there are remarks both on the picture and on the time, but still, I remind you that the model was not customized and it was released a year ago (at the time of writing). In my opinion, it's worth an hour of time, and you literally have a free image generator at your fingertips where you can make your funniest beaver or a cool boring car :) </p>\n",
    "    </div>\n",
    "</body>\n",
    "</html>\n"
   ]
  },
  {
   "cell_type": "markdown",
   "metadata": {},
   "source": [
    "<a href=\"https://ibb.co/n0Z90yd\"><img src=\"https://i.ibb.co/LPbmPyj/5.png\" alt=\"5\" border=\"0\"></a>"
   ]
  },
  {
   "cell_type": "markdown",
   "metadata": {},
   "source": [
    "<h3>Additional</h3>\n",
    "<h3>Technologies Used</h3>\n",
    "<p><strong>Python:</strong></p>\n",
    "<ul>\n",
    "  <li>Flask: Used for creating the web application.</li>\n",
    "  <li>Diffusers: Used for importing the DiffusionPipeline class for image processing.</li>\n",
    "  <li>Torch: Used for working with neural networks and image processing.</li>\n",
    "  <li>BytesIO: Used for working with bytes in memory.</li>\n",
    "  <li>OS: Used for file and directory operations.</li>\n",
    "</ul>\n",
    "\n",
    "<p><strong>HTML:</strong></p>\n",
    "<ul>\n",
    "  <li>Used for webpage markup.</li>\n",
    "</ul>\n",
    "\n",
    "<p><strong>CSS:</strong></p>\n",
    "<ul>\n",
    "  <li>Used for styling the webpage and improving its appearance.</li>\n",
    "</ul>\n",
    "\n",
    "<p><strong>JavaScript:</strong></p>\n",
    "<ul>\n",
    "  <li>Used for interactivity and dynamic behavior of the webpage.</li>\n",
    "</ul>\n",
    "\n",
    "<p><strong>Jupyter Notebook:</strong></p>\n",
    "<ul>\n",
    "  <li>Used for code development, testing, and project documentation.</li>\n",
    "</ul>\n",
    "\n",
    "<h3>Thank You for Your Attention!</h3>\n",
    "<p>If you find any errors in the code, please feel free to contact me at daniilbokhan.q@gmail.com. I'm eager to improve!</p>\n"
   ]
  }
 ],
 "metadata": {
  "language_info": {
   "name": "python"
  }
 },
 "nbformat": 4,
 "nbformat_minor": 2
}
